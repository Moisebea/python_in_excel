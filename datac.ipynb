{
 "cells": [
  {
   "cell_type": "code",
   "execution_count": 1,
   "metadata": {},
   "outputs": [
    {
     "name": "stdout",
     "output_type": "stream",
     "text": [
      "[*********************100%***********************]  3 of 3 completed\n",
      "                  AAPL        AMZN        MSFT\n",
      "Date                                          \n",
      "2023-07-03  192.460007  130.220001  337.989990\n",
      "2023-07-05  191.330002  130.380005  338.149994\n",
      "2023-07-06  191.809998  128.360001  341.269989\n",
      "2023-07-07  190.679993  129.779999  337.220001\n",
      "2023-07-10  188.610001  127.129997  331.829987\n",
      "2023-07-11  188.080002  128.779999  332.470001\n",
      "2023-07-12  189.770004  130.800003  337.200012\n",
      "2023-07-13  190.539993  134.300003  342.660004\n",
      "2023-07-14  190.690002  134.679993  345.239990\n",
      "2023-07-17  193.990005  133.559998  345.730011\n",
      "2023-07-18  193.729996  132.830002  359.489990\n",
      "2023-07-19  195.100006  135.360001  355.079987\n",
      "2023-07-20  193.130005  129.960007  346.869995\n",
      "2023-07-21  191.940002  130.000000  343.769989\n",
      "2023-07-24  192.750000  128.800003  345.109985\n",
      "2023-07-25  193.619995  129.130005  350.980011\n",
      "2023-07-26  194.500000  128.149994  337.769989\n",
      "2023-07-27  193.220001  128.250000  330.720001\n",
      "2023-07-28  195.830002  132.210007  338.369995\n"
     ]
    }
   ],
   "source": [
    "import yfinance as yf\n",
    "\n",
    "# Définir les symboles des actions\n",
    "symbols = [\"AAPL\", \"MSFT\", \"AMZN\"]\n",
    "\n",
    "# Définir la période\n",
    "start_date = \"2023-07-01\"\n",
    "end_date = \"2023-07-31\"\n",
    "\n",
    "# Télécharger les données\n",
    "data = yf.download(symbols, start=start_date, end=end_date)\n",
    "\n",
    "# Afficher les prix de clôture\n",
    "print(data['Close'])"
   ]
  },
  {
   "cell_type": "code",
   "execution_count": 2,
   "metadata": {},
   "outputs": [],
   "source": [
    "data['Close'].to_csv('closing_prices.csv')"
   ]
  }
 ],
 "metadata": {
  "kernelspec": {
   "display_name": "Python 3",
   "language": "python",
   "name": "python3"
  },
  "language_info": {
   "codemirror_mode": {
    "name": "ipython",
    "version": 3
   },
   "file_extension": ".py",
   "mimetype": "text/x-python",
   "name": "python",
   "nbconvert_exporter": "python",
   "pygments_lexer": "ipython3",
   "version": "3.11.0"
  },
  "orig_nbformat": 4
 },
 "nbformat": 4,
 "nbformat_minor": 2
}
